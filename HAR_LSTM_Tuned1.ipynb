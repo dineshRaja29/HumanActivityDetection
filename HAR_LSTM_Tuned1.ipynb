{
  "nbformat": 4,
  "nbformat_minor": 0,
  "metadata": {
    "colab": {
      "name": "HAR_LSTM_Tuned1.ipynb",
      "provenance": [],
      "include_colab_link": true
    },
    "language_info": {
      "codemirror_mode": {
        "name": "ipython",
        "version": 3
      },
      "file_extension": ".py",
      "mimetype": "text/x-python",
      "name": "python",
      "nbconvert_exporter": "python",
      "pygments_lexer": "ipython3",
      "version": "3.6.3"
    },
    "kernelspec": {
      "display_name": "Python 3",
      "language": "python",
      "name": "python3"
    }
  },
  "cells": [
    {
      "cell_type": "markdown",
      "metadata": {
        "id": "view-in-github",
        "colab_type": "text"
      },
      "source": [
        "<a href=\"https://colab.research.google.com/github/dineshRaja29/HumanActivityDetection/blob/main/HAR_LSTM_Tuned1.ipynb\" target=\"_parent\"><img src=\"https://colab.research.google.com/assets/colab-badge.svg\" alt=\"Open In Colab\"/></a>"
      ]
    },
    {
      "cell_type": "code",
      "metadata": {
        "id": "wl6l1py55yQm"
      },
      "source": [
        "import pandas as pd\n",
        "import matplotlib.pyplot as plt\n",
        "import numpy as np\n",
        "%matplotlib inline"
      ],
      "execution_count": null,
      "outputs": []
    },
    {
      "cell_type": "code",
      "metadata": {
        "id": "dIv2Lsd_5yQo"
      },
      "source": [
        "# Activities are the class labels\n",
        "# It is a 6 class classification\n",
        "ACTIVITIES = {\n",
        "    0: 'WALKING',\n",
        "    1: 'WALKING_UPSTAIRS',\n",
        "    2: 'WALKING_DOWNSTAIRS',\n",
        "    3: 'SITTING',\n",
        "    4: 'STANDING',\n",
        "    5: 'LAYING',\n",
        "}\n",
        "\n",
        "# Utility function to print the confusion matrix\n",
        "def confusion_matrix(Y_true, Y_pred):\n",
        "    Y_true = pd.Series([ACTIVITIES[y] for y in np.argmax(Y_true, axis=1)])\n",
        "    Y_pred = pd.Series([ACTIVITIES[y] for y in np.argmax(Y_pred, axis=1)])\n",
        "\n",
        "    return pd.crosstab(Y_true, Y_pred, rownames=['True'], colnames=['Pred'])"
      ],
      "execution_count": null,
      "outputs": []
    },
    {
      "cell_type": "markdown",
      "metadata": {
        "id": "1AxlvF1N5yQr"
      },
      "source": [
        "### Data"
      ]
    },
    {
      "cell_type": "code",
      "metadata": {
        "id": "M1xDgcyF5yQs"
      },
      "source": [
        "# Data directory\n",
        "DATADIR = '/content/drive/My Drive/HumanActivityRecognition/HAR/UCI_HAR_Dataset'"
      ],
      "execution_count": null,
      "outputs": []
    },
    {
      "cell_type": "code",
      "metadata": {
        "id": "-le39h-c5yQu"
      },
      "source": [
        "# Raw data signals\n",
        "# Signals are from Accelerometer and Gyroscope\n",
        "# The signals are in x,y,z directions\n",
        "# Sensor signals are filtered to have only body acceleration\n",
        "# excluding the acceleration due to gravity\n",
        "# Triaxial acceleration from the accelerometer is total acceleration\n",
        "SIGNALS = [\n",
        "    \"body_acc_x\",\n",
        "    \"body_acc_y\",\n",
        "    \"body_acc_z\",\n",
        "    \"body_gyro_x\",\n",
        "    \"body_gyro_y\",\n",
        "    \"body_gyro_z\",\n",
        "    \"total_acc_x\",\n",
        "    \"total_acc_y\",\n",
        "    \"total_acc_z\"\n",
        "]"
      ],
      "execution_count": null,
      "outputs": []
    },
    {
      "cell_type": "code",
      "metadata": {
        "id": "r4KwhDci5yQy"
      },
      "source": [
        "# Utility function to read the data from csv file\n",
        "def _read_csv(filename):\n",
        "    return pd.read_csv(filename, delim_whitespace=True, header=None)\n",
        "\n",
        "# Utility function to load the load\n",
        "def load_signals(subset):\n",
        "    signals_data = []\n",
        "\n",
        "    for signal in SIGNALS:\n",
        "        filename = f'/content/drive/My Drive/HumanActivityRecognition/HAR/UCI_HAR_Dataset/{subset}/Inertial Signals/{signal}_{subset}.txt'\n",
        "        signals_data.append(\n",
        "            _read_csv(filename).as_matrix()\n",
        "        ) \n",
        "\n",
        "    # Transpose is used to change the dimensionality of the output,\n",
        "    # aggregating the signals by combination of sample/timestep.\n",
        "    # Resultant shape is (7352 train/2947 test samples, 128 timesteps, 9 signals)\n",
        "    return np.transpose(signals_data, (1, 2, 0))"
      ],
      "execution_count": null,
      "outputs": []
    },
    {
      "cell_type": "code",
      "metadata": {
        "id": "tOUajPia5yQ0"
      },
      "source": [
        "\n",
        "def load_y(subset):\n",
        "    \"\"\"\n",
        "    The objective that we are trying to predict is a integer, from 1 to 6,\n",
        "    that represents a human activity. We return a binary representation of \n",
        "    every sample objective as a 6 bits vector using One Hot Encoding\n",
        "    (https://pandas.pydata.org/pandas-docs/stable/generated/pandas.get_dummies.html)\n",
        "    \"\"\"\n",
        "    filename = f'/content/drive/My Drive/HumanActivityRecognition/HAR/UCI_HAR_Dataset/{subset}/y_{subset}.txt'\n",
        "    y = _read_csv(filename)[0]\n",
        "\n",
        "    return pd.get_dummies(y).as_matrix()"
      ],
      "execution_count": null,
      "outputs": []
    },
    {
      "cell_type": "code",
      "metadata": {
        "id": "rNymtsys5yQ2"
      },
      "source": [
        "def load_data():\n",
        "    \"\"\"\n",
        "    Obtain the dataset from multiple files.\n",
        "    Returns: X_train, X_test, y_train, y_test\n",
        "    \"\"\"\n",
        "    X_train, X_test = load_signals('train'), load_signals('test')\n",
        "    y_train, y_test = load_y('train'), load_y('test')\n",
        "\n",
        "    return X_train, X_test, y_train, y_test"
      ],
      "execution_count": null,
      "outputs": []
    },
    {
      "cell_type": "code",
      "metadata": {
        "id": "TC1W92HQ5yQ6"
      },
      "source": [
        "# Importing tensorflow\n",
        "np.random.seed(42)\n",
        "import tensorflow as tf\n",
        "tf.set_random_seed(42)"
      ],
      "execution_count": null,
      "outputs": []
    },
    {
      "cell_type": "code",
      "metadata": {
        "id": "Fm_sjIhq5yQ9"
      },
      "source": [
        "# Configuring a session\n",
        "session_conf = tf.ConfigProto(\n",
        "    intra_op_parallelism_threads=1,\n",
        "    inter_op_parallelism_threads=1\n",
        ")"
      ],
      "execution_count": null,
      "outputs": []
    },
    {
      "cell_type": "code",
      "metadata": {
        "id": "M_NRga6e5yRA",
        "outputId": "a22da171-9b68-40ec-f35d-31505f5f9ace",
        "colab": {
          "base_uri": "https://localhost:8080/",
          "height": 34
        }
      },
      "source": [
        "# Import Keras\n",
        "from keras import backend as K\n",
        "sess = tf.Session(graph=tf.get_default_graph(), config=session_conf)\n",
        "K.set_session(sess)"
      ],
      "execution_count": null,
      "outputs": [
        {
          "output_type": "stream",
          "text": [
            "Using TensorFlow backend.\n"
          ],
          "name": "stderr"
        }
      ]
    },
    {
      "cell_type": "code",
      "metadata": {
        "id": "dWKvOa8z5yRC"
      },
      "source": [
        "# Importing libraries\n",
        "from keras.models import Sequential\n",
        "from keras.layers import LSTM\n",
        "from keras.layers.core import Dense, Dropout"
      ],
      "execution_count": null,
      "outputs": []
    },
    {
      "cell_type": "code",
      "metadata": {
        "id": "KwCqsnGP5yRD"
      },
      "source": [
        "# Initializing parameters\n",
        "epochs = 29\n",
        "batch_size = 16\n"
      ],
      "execution_count": null,
      "outputs": []
    },
    {
      "cell_type": "code",
      "metadata": {
        "id": "bJgfys0P5yRF"
      },
      "source": [
        "# Utility function to count the number of classes\n",
        "def _count_classes(y):\n",
        "    return len(set([tuple(category) for category in y]))"
      ],
      "execution_count": null,
      "outputs": []
    },
    {
      "cell_type": "code",
      "metadata": {
        "id": "XzEcZhXS5yRH",
        "outputId": "d4de1302-995a-453e-de21-951862aa9cfa",
        "colab": {
          "base_uri": "https://localhost:8080/",
          "height": 124
        }
      },
      "source": [
        "# Loading the train and test data\n",
        "from google.colab import drive\n",
        "drive.mount('/content/drive', force_remount=True)\n",
        "!pip install -U -q PyDrive\n",
        "from pydrive.auth import GoogleAuth\n",
        "from pydrive.drive import GoogleDrive\n",
        "from google.colab import auth\n",
        "from oauth2client.client import GoogleCredentials\n",
        "\n",
        "X_train, X_test, Y_train, Y_test = load_data()"
      ],
      "execution_count": null,
      "outputs": [
        {
          "output_type": "stream",
          "text": [
            "Mounted at /content/drive\n"
          ],
          "name": "stdout"
        },
        {
          "output_type": "stream",
          "text": [
            "/usr/local/lib/python3.6/dist-packages/ipykernel_launcher.py:11: FutureWarning: Method .as_matrix will be removed in a future version. Use .values instead.\n",
            "  # This is added back by InteractiveShellApp.init_path()\n",
            "/usr/local/lib/python3.6/dist-packages/ipykernel_launcher.py:12: FutureWarning: Method .as_matrix will be removed in a future version. Use .values instead.\n",
            "  if sys.path[0] == '':\n"
          ],
          "name": "stderr"
        }
      ]
    },
    {
      "cell_type": "code",
      "metadata": {
        "id": "Jvp7Xl-J5yRJ",
        "outputId": "639b0720-2153-4e7d-d7de-fb77e537edea",
        "colab": {
          "base_uri": "https://localhost:8080/",
          "height": 69
        }
      },
      "source": [
        "timesteps = len(X_train[0])\n",
        "input_dim = len(X_train[0][0])\n",
        "n_classes = _count_classes(Y_train)\n",
        "\n",
        "print(timesteps)\n",
        "print(input_dim)\n",
        "print(len(X_train))"
      ],
      "execution_count": null,
      "outputs": [
        {
          "output_type": "stream",
          "text": [
            "128\n",
            "9\n",
            "7352\n"
          ],
          "name": "stdout"
        }
      ]
    },
    {
      "cell_type": "markdown",
      "metadata": {
        "id": "mHItwmIt5yRN"
      },
      "source": [
        "##  Hyperparameter Tuning Especially Dropout rate and Number of LSTM"
      ]
    },
    {
      "cell_type": "code",
      "metadata": {
        "id": "FY8Re0Sd0hXu",
        "outputId": "60fd86d6-4135-428e-e95f-17aafa05fd2e",
        "colab": {
          "base_uri": "https://localhost:8080/",
          "height": 298
        }
      },
      "source": [
        "########################################################\n",
        "from sklearn.model_selection import GridSearchCV\n",
        "from keras.models import Sequential\n",
        "from keras.layers import Dense\n",
        "from keras.layers import Dropout\n",
        "from keras.wrappers.scikit_learn import KerasClassifier\n",
        "from keras.constraints import maxnorm\n",
        "########################################################\n",
        "\n",
        "\n",
        "def make_model(dropout_rate = 0.0, n_hidden = 0):\n",
        "  # Initiliazing the sequential model\n",
        "  model = Sequential()\n",
        "  # Configuring the parameters\n",
        "  model.add(LSTM(n_hidden, input_shape=(timesteps, input_dim)))\n",
        "  # Adding a dropout layer\n",
        "  model.add(Dropout(dropout_rate))\n",
        "  # Adding a dense output layer with sigmoid activation\n",
        "  model.add(Dense(n_classes, activation='sigmoid'))\n",
        "  # Compiling the model\n",
        "  model.compile(loss='categorical_crossentropy',optimizer='Adam', metrics=['accuracy'])\n",
        "  return model\n",
        "\n",
        "##########################################\n",
        "############# Grid Search ################\n",
        "##########################################\n",
        "model = KerasClassifier(build_fn=make_model, epochs=epochs, batch_size=batch_size, verbose=0)\n",
        "dropout_rate = [x /10 for x in range(3, 8)]\n",
        "print(\"Range of dropout rate is \",dropout_rate)\n",
        "n_hidden = [i for i in range(21, 36, 3)]\n",
        "print(\"Range of LSTM in hidden layer is \",n_hidden)\n",
        "param_grid = dict(dropout_rate=dropout_rate, n_hidden=n_hidden)\n",
        "grid = GridSearchCV(estimator=model, param_grid=param_grid,cv=3, n_jobs=-1)\n",
        "print(\"NUmber of Epochs is \",epochs);\n",
        "grid_result = grid.fit(X_train, Y_train)\n",
        "print(\"Best: %f using %s\" % (grid_result.best_score_, grid_result.best_params_))\n",
        "\n"
      ],
      "execution_count": null,
      "outputs": [
        {
          "output_type": "stream",
          "text": [
            "Range of dropout rate is  [0.3, 0.4, 0.5, 0.6, 0.7]\n",
            "Range of LSTM in hidden layer is  [21, 24, 27, 30, 33]\n",
            "NUmber of Epochs is  7\n"
          ],
          "name": "stdout"
        },
        {
          "output_type": "stream",
          "text": [
            "/usr/local/lib/python3.6/dist-packages/sklearn/externals/joblib/externals/loky/process_executor.py:706: UserWarning: A worker stopped while some jobs were given to the executor. This can be caused by a too short worker timeout or by a memory leak.\n",
            "  \"timeout or by a memory leak.\", UserWarning\n"
          ],
          "name": "stderr"
        },
        {
          "output_type": "stream",
          "text": [
            "WARNING:tensorflow:From /usr/local/lib/python3.6/dist-packages/tensorflow/python/framework/op_def_library.py:263: colocate_with (from tensorflow.python.framework.ops) is deprecated and will be removed in a future version.\n",
            "Instructions for updating:\n",
            "Colocations handled automatically by placer.\n",
            "WARNING:tensorflow:From /usr/local/lib/python3.6/dist-packages/keras/backend/tensorflow_backend.py:3445: calling dropout (from tensorflow.python.ops.nn_ops) with keep_prob is deprecated and will be removed in a future version.\n",
            "Instructions for updating:\n",
            "Please use `rate` instead of `keep_prob`. Rate should be set to `rate = 1 - keep_prob`.\n",
            "WARNING:tensorflow:From /usr/local/lib/python3.6/dist-packages/tensorflow/python/ops/math_ops.py:3066: to_int32 (from tensorflow.python.ops.math_ops) is deprecated and will be removed in a future version.\n",
            "Instructions for updating:\n",
            "Use tf.cast instead.\n",
            "Best: 0.632073 using {'dropout_rate': 0.3, 'n_hidden': 27}\n"
          ],
          "name": "stdout"
        }
      ]
    },
    {
      "cell_type": "code",
      "metadata": {
        "id": "LhT6b_8yCXsd",
        "outputId": "b036e1f1-e81e-45bb-9cc7-4e9d3ea0540a",
        "colab": {
          "base_uri": "https://localhost:8080/",
          "height": 451
        }
      },
      "source": [
        "means = grid_result.cv_results_['mean_test_score']\n",
        "stds = grid_result.cv_results_['std_test_score']\n",
        "params = grid_result.cv_results_['params']\n",
        "for mean, stdev, param in zip(means, stds, params):\n",
        "    print(\"%f (%f) with: %r\" % (mean, stdev, param))"
      ],
      "execution_count": null,
      "outputs": [
        {
          "output_type": "stream",
          "text": [
            "0.436616 (0.049177) with: {'dropout_rate': 0.3, 'n_hidden': 21}\n",
            "0.495239 (0.025705) with: {'dropout_rate': 0.3, 'n_hidden': 24}\n",
            "0.632073 (0.022293) with: {'dropout_rate': 0.3, 'n_hidden': 27}\n",
            "0.502312 (0.078177) with: {'dropout_rate': 0.3, 'n_hidden': 30}\n",
            "0.520267 (0.018460) with: {'dropout_rate': 0.3, 'n_hidden': 33}\n",
            "0.502312 (0.055931) with: {'dropout_rate': 0.4, 'n_hidden': 21}\n",
            "0.592492 (0.033891) with: {'dropout_rate': 0.4, 'n_hidden': 24}\n",
            "0.566104 (0.057175) with: {'dropout_rate': 0.4, 'n_hidden': 27}\n",
            "0.553183 (0.073051) with: {'dropout_rate': 0.4, 'n_hidden': 30}\n",
            "0.527884 (0.088172) with: {'dropout_rate': 0.4, 'n_hidden': 33}\n",
            "0.546790 (0.067233) with: {'dropout_rate': 0.5, 'n_hidden': 21}\n",
            "0.573721 (0.065279) with: {'dropout_rate': 0.5, 'n_hidden': 24}\n",
            "0.535637 (0.064784) with: {'dropout_rate': 0.5, 'n_hidden': 27}\n",
            "0.484630 (0.143020) with: {'dropout_rate': 0.5, 'n_hidden': 30}\n",
            "0.556311 (0.081466) with: {'dropout_rate': 0.5, 'n_hidden': 33}\n",
            "0.583243 (0.070875) with: {'dropout_rate': 0.6, 'n_hidden': 21}\n",
            "0.483950 (0.107403) with: {'dropout_rate': 0.6, 'n_hidden': 24}\n",
            "0.504489 (0.071130) with: {'dropout_rate': 0.6, 'n_hidden': 27}\n",
            "0.506121 (0.053391) with: {'dropout_rate': 0.6, 'n_hidden': 30}\n",
            "0.484086 (0.056265) with: {'dropout_rate': 0.6, 'n_hidden': 33}\n",
            "0.491839 (0.032639) with: {'dropout_rate': 0.7, 'n_hidden': 21}\n",
            "0.484766 (0.071339) with: {'dropout_rate': 0.7, 'n_hidden': 24}\n",
            "0.549238 (0.036406) with: {'dropout_rate': 0.7, 'n_hidden': 27}\n",
            "0.458515 (0.102301) with: {'dropout_rate': 0.7, 'n_hidden': 30}\n",
            "0.592084 (0.073607) with: {'dropout_rate': 0.7, 'n_hidden': 33}\n"
          ],
          "name": "stdout"
        }
      ]
    },
    {
      "cell_type": "code",
      "metadata": {
        "id": "Jm_SxmYqCgfW",
        "outputId": "7fb16486-d8c1-42e2-c01e-65cb10d4738a",
        "colab": {
          "base_uri": "https://localhost:8080/",
          "height": 402
        }
      },
      "source": [
        "y_true, y_pred = Y_test, pd.get_dummies(grid_result.predict(X_test)).as_matrix()\n",
        "print(\"################################\")\n",
        "print(confusion_matrix(y_true,y_pred ))\n",
        "print(\"################################\")"
      ],
      "execution_count": null,
      "outputs": [
        {
          "output_type": "stream",
          "text": [
            "################################\n",
            "Pred                LAYING  SITTING  STANDING  WALKING  WALKING_DOWNSTAIRS  \\\n",
            "True                                                                         \n",
            "LAYING                 506        0         1       30                   0   \n",
            "SITTING                  1      379       107        4                   0   \n",
            "STANDING                 0       84       436       12                   0   \n",
            "WALKING                  0        0         2      494                   0   \n",
            "WALKING_DOWNSTAIRS       0        0         1      417                   2   \n",
            "WALKING_UPSTAIRS         3        1         4      458                   4   \n",
            "\n",
            "Pred                WALKING_UPSTAIRS  \n",
            "True                                  \n",
            "LAYING                             0  \n",
            "SITTING                            0  \n",
            "STANDING                           0  \n",
            "WALKING                            0  \n",
            "WALKING_DOWNSTAIRS                 0  \n",
            "WALKING_UPSTAIRS                   1  \n",
            "################################\n"
          ],
          "name": "stdout"
        },
        {
          "output_type": "stream",
          "text": [
            "/usr/local/lib/python3.6/dist-packages/ipykernel_launcher.py:1: FutureWarning: Method .as_matrix will be removed in a future version. Use .values instead.\n",
            "  \"\"\"Entry point for launching an IPython kernel.\n"
          ],
          "name": "stderr"
        }
      ]
    },
    {
      "cell_type": "code",
      "metadata": {
        "id": "juubl2IVIyL0",
        "outputId": "d6959fd3-32ff-481a-9455-44f177102fff",
        "colab": {
          "base_uri": "https://localhost:8080/",
          "height": 34
        }
      },
      "source": [
        "#score = grid_result.evaluate(X_test, Y_test)\n",
        "print(grid_result.score(X_test, Y_test))\n",
        "#print(score)"
      ],
      "execution_count": null,
      "outputs": [
        {
          "output_type": "stream",
          "text": [
            "0.6168985408890397\n"
          ],
          "name": "stdout"
        }
      ]
    },
    {
      "cell_type": "markdown",
      "metadata": {
        "id": "WHBmVQ2pH22M"
      },
      "source": [
        "### So far we got the best hyperparameters for dropout rate and number of LSTM as '0.3' and '27' respectively"
      ]
    },
    {
      "cell_type": "markdown",
      "metadata": {
        "id": "_F8JohVqIPi3"
      },
      "source": [
        "** Salient Points **  <br>\n",
        "- If we make epoch rate high then program will run forever. <br>\n",
        "-  If we increase the range of points of the hyper-parameter then program will run forever. <br>\n",
        "-  We do some hack like we find the optimal hyper-parameter by minimizing the range of points for hyperparameter and also we minimize the epochs. <br>\n",
        "- Once we get the optmal parameters then we build new model based on these optimal hyperparameters but we increase the batch size since our epochs are very less. \n"
      ]
    },
    {
      "cell_type": "markdown",
      "metadata": {
        "id": "3OiiJCUEKP0_"
      },
      "source": [
        "## Model I with optimal hyperameter "
      ]
    },
    {
      "cell_type": "code",
      "metadata": {
        "id": "RxuklMd7lPr7",
        "outputId": "a56731c8-2b4a-43bd-b6b3-4c91553baffb",
        "colab": {
          "base_uri": "https://localhost:8080/",
          "height": 367
        }
      },
      "source": [
        "# Initiliazing the sequential model\n",
        "model = Sequential()\n",
        "# Configuring the parameters\n",
        "model.add(LSTM(27, input_shape=(timesteps, input_dim)))\n",
        "# Adding a dropout layer\n",
        "model.add(Dropout(0.3))\n",
        "# Adding a dense output layer with sigmoid activation\n",
        "model.add(Dense(n_classes, activation='sigmoid'))\n",
        "model.summary()"
      ],
      "execution_count": null,
      "outputs": [
        {
          "output_type": "stream",
          "text": [
            "WARNING:tensorflow:From /usr/local/lib/python3.6/dist-packages/tensorflow/python/framework/op_def_library.py:263: colocate_with (from tensorflow.python.framework.ops) is deprecated and will be removed in a future version.\n",
            "Instructions for updating:\n",
            "Colocations handled automatically by placer.\n",
            "WARNING:tensorflow:From /usr/local/lib/python3.6/dist-packages/keras/backend/tensorflow_backend.py:3445: calling dropout (from tensorflow.python.ops.nn_ops) with keep_prob is deprecated and will be removed in a future version.\n",
            "Instructions for updating:\n",
            "Please use `rate` instead of `keep_prob`. Rate should be set to `rate = 1 - keep_prob`.\n",
            "_________________________________________________________________\n",
            "Layer (type)                 Output Shape              Param #   \n",
            "=================================================================\n",
            "lstm_1 (LSTM)                (None, 27)                3996      \n",
            "_________________________________________________________________\n",
            "dropout_1 (Dropout)          (None, 27)                0         \n",
            "_________________________________________________________________\n",
            "dense_1 (Dense)              (None, 6)                 168       \n",
            "=================================================================\n",
            "Total params: 4,164\n",
            "Trainable params: 4,164\n",
            "Non-trainable params: 0\n",
            "_________________________________________________________________\n"
          ],
          "name": "stdout"
        }
      ]
    },
    {
      "cell_type": "code",
      "metadata": {
        "id": "TNaQYKxPlsUA"
      },
      "source": [
        "# Compiling the model\n",
        "model.compile(loss='categorical_crossentropy',\n",
        "              optimizer='rmsprop',\n",
        "              metrics=['accuracy'])"
      ],
      "execution_count": null,
      "outputs": []
    },
    {
      "cell_type": "code",
      "metadata": {
        "id": "d8X3qQZTlc3F",
        "outputId": "c82357f3-5331-4381-bcd0-d0c38a6b6bd7",
        "colab": {
          "base_uri": "https://localhost:8080/",
          "height": 278
        }
      },
      "source": [
        "history = model.fit(X_train,\n",
        "          Y_train,\n",
        "          batch_size=26,\n",
        "          validation_data=(X_test, Y_test),\n",
        "          epochs=7)"
      ],
      "execution_count": null,
      "outputs": [
        {
          "output_type": "stream",
          "text": [
            "Train on 7352 samples, validate on 2947 samples\n",
            "Epoch 1/7\n",
            "7352/7352 [==============================] - 18s 2ms/step - loss: 0.1442 - acc: 0.9489 - val_loss: 0.5383 - val_acc: 0.8968\n",
            "Epoch 2/7\n",
            "7352/7352 [==============================] - 18s 2ms/step - loss: 0.1226 - acc: 0.9539 - val_loss: 0.3821 - val_acc: 0.9030\n",
            "Epoch 3/7\n",
            "7352/7352 [==============================] - 18s 2ms/step - loss: 0.1287 - acc: 0.9509 - val_loss: 0.3724 - val_acc: 0.9128\n",
            "Epoch 4/7\n",
            "7352/7352 [==============================] - 18s 2ms/step - loss: 0.1430 - acc: 0.9506 - val_loss: 0.4238 - val_acc: 0.9128\n",
            "Epoch 5/7\n",
            "7352/7352 [==============================] - 18s 2ms/step - loss: 0.1281 - acc: 0.9551 - val_loss: 0.4554 - val_acc: 0.9057\n",
            "Epoch 6/7\n",
            "7352/7352 [==============================] - 17s 2ms/step - loss: 0.1221 - acc: 0.9527 - val_loss: 0.4492 - val_acc: 0.9030\n",
            "Epoch 7/7\n",
            "7352/7352 [==============================] - 17s 2ms/step - loss: 0.1425 - acc: 0.9513 - val_loss: 0.5046 - val_acc: 0.9101\n"
          ],
          "name": "stdout"
        }
      ]
    },
    {
      "cell_type": "code",
      "metadata": {
        "id": "BmhdJzinKxxG",
        "colab": {
          "base_uri": "https://localhost:8080/",
          "height": 365
        },
        "outputId": "b150f897-7986-492b-939a-5bd13daada65"
      },
      "source": [
        "def plt_dynamic(x, vy, ty):\n",
        "  plt.figure(figsize=(10,5))\n",
        "  plt.plot(x, vy, 'b', label=\"Validation Loss\")\n",
        "  plt.plot(x, ty, 'r', label=\"Train Loss\")\n",
        "  plt.xlabel('Epochs') \n",
        "  plt.ylabel('Binary Crossentropy Loss')\n",
        "  plt.title('\\nBinary Crossentropy Loss VS Epochs')\n",
        "  plt.legend()\n",
        "  plt.grid()\n",
        "  plt.show()\n",
        "x = list(range(1,8))\n",
        "train_acc_1  = history.history['acc']\n",
        "val_acc_1    = history.history['val_acc']\n",
        "vy_1 = history.history['val_loss']\n",
        "ty_1 = history.history['loss']\n",
        "plt_dynamic(x, vy_1, ty_1)"
      ],
      "execution_count": null,
      "outputs": [
        {
          "output_type": "display_data",
          "data": {
            "image/png": "[encoded data removed]",
            "text/plain": [
              "<Figure size 720x360 with 1 Axes>"
            ]
          },
          "metadata": {
            "tags": []
          }
        }
      ]
    },
    {
      "cell_type": "markdown",
      "metadata": {
        "id": "B9--ZY2KKXKu"
      },
      "source": [
        "## ** Note ** : We got train accuracy as '95.13' and validation accuracy as '91.101'"
      ]
    },
    {
      "cell_type": "markdown",
      "metadata": {
        "id": "FXgtl6RyKqIJ"
      },
      "source": [
        "## Model II with optimal Hyperparameter [Addition of one more layer of LSTM]"
      ]
    },
    {
      "cell_type": "code",
      "metadata": {
        "id": "bJIkuU8UcgTy",
        "outputId": "9a85a384-9016-4ca2-989b-69d62e5c0fd8",
        "colab": {
          "base_uri": "https://localhost:8080/",
          "height": 278
        }
      },
      "source": [
        "model_ii = Sequential()\n",
        "# Configuring the parameters\n",
        "model_ii.add(LSTM(27, input_shape=(timesteps, input_dim), return_sequences=True))\n",
        "model_ii.add(LSTM(27))\n",
        "# Adding a dropout layer\n",
        "model_ii.add(Dropout(0.3))\n",
        "# Adding a dense output layer with sigmoid activation\n",
        "model_ii.add(Dense(n_classes, activation='sigmoid'))\n",
        "model_ii.summary()"
      ],
      "execution_count": null,
      "outputs": [
        {
          "output_type": "stream",
          "text": [
            "_________________________________________________________________\n",
            "Layer (type)                 Output Shape              Param #   \n",
            "=================================================================\n",
            "lstm_2 (LSTM)                (None, 128, 27)           3996      \n",
            "_________________________________________________________________\n",
            "lstm_3 (LSTM)                (None, 27)                5940      \n",
            "_________________________________________________________________\n",
            "dropout_2 (Dropout)          (None, 27)                0         \n",
            "_________________________________________________________________\n",
            "dense_2 (Dense)              (None, 6)                 168       \n",
            "=================================================================\n",
            "Total params: 10,104\n",
            "Trainable params: 10,104\n",
            "Non-trainable params: 0\n",
            "_________________________________________________________________\n"
          ],
          "name": "stdout"
        }
      ]
    },
    {
      "cell_type": "code",
      "metadata": {
        "id": "ou9TEWnYdNfy"
      },
      "source": [
        "# Compiling the model\n",
        "model_ii.compile(loss='categorical_crossentropy',\n",
        "              optimizer='rmsprop',\n",
        "              metrics=['accuracy'])"
      ],
      "execution_count": null,
      "outputs": []
    },
    {
      "cell_type": "code",
      "metadata": {
        "id": "_sOl3HuXdlLk",
        "outputId": "314afcf3-b09b-40b6-ccce-041768f4042f",
        "colab": {
          "base_uri": "https://localhost:8080/",
          "height": 278
        }
      },
      "source": [
        "history = model_ii.fit(X_train,\n",
        "          Y_train,\n",
        "          batch_size=12,\n",
        "          validation_data=(X_test, Y_test),\n",
        "          epochs=7)"
      ],
      "execution_count": null,
      "outputs": [
        {
          "output_type": "stream",
          "text": [
            "Train on 7352 samples, validate on 2947 samples\n",
            "Epoch 1/7\n",
            "7352/7352 [==============================] - 70s 9ms/step - loss: 0.2127 - acc: 0.9226 - val_loss: 0.5515 - val_acc: 0.8758\n",
            "Epoch 2/7\n",
            "7352/7352 [==============================] - 70s 9ms/step - loss: 0.2048 - acc: 0.9334 - val_loss: 0.6154 - val_acc: 0.8629\n",
            "Epoch 3/7\n",
            "7352/7352 [==============================] - 70s 10ms/step - loss: 0.1763 - acc: 0.9353 - val_loss: 0.5240 - val_acc: 0.8778\n",
            "Epoch 4/7\n",
            "7352/7352 [==============================] - 71s 10ms/step - loss: 0.1924 - acc: 0.9280 - val_loss: 0.5204 - val_acc: 0.8921\n",
            "Epoch 5/7\n",
            "7352/7352 [==============================] - 71s 10ms/step - loss: 0.1790 - acc: 0.9433 - val_loss: 0.4137 - val_acc: 0.8894\n",
            "Epoch 6/7\n",
            "7352/7352 [==============================] - 72s 10ms/step - loss: 0.1591 - acc: 0.9433 - val_loss: 0.4895 - val_acc: 0.8853\n",
            "Epoch 7/7\n",
            "7352/7352 [==============================] - 72s 10ms/step - loss: 0.1668 - acc: 0.9419 - val_loss: 0.4636 - val_acc: 0.8846\n"
          ],
          "name": "stdout"
        }
      ]
    },
    {
      "cell_type": "code",
      "metadata": {
        "id": "DsuptrL1Olap",
        "colab": {
          "base_uri": "https://localhost:8080/",
          "height": 365
        },
        "outputId": "179ba462-b507-4c3f-c02c-fd6d22694d5b"
      },
      "source": [
        "\n",
        "train_acc_1  = history.history['acc']\n",
        "val_acc_1    = history.history['val_acc']\n",
        "vy_1 = history.history['val_loss']\n",
        "ty_1 = history.history['loss']\n",
        "plt_dynamic(x, vy_1, ty_1)"
      ],
      "execution_count": null,
      "outputs": [
        {
          "output_type": "display_data",
          "data": {
            "image/png": "[encoded data removed]",
            "text/plain": [
              "<Figure size 720x360 with 1 Axes>"
            ]
          },
          "metadata": {
            "tags": []
          }
        }
      ]
    },
    {
      "cell_type": "code",
      "metadata": {
        "id": "m6OyXb2tK2AG",
        "outputId": "0e034c57-dec6-4db7-c03c-11bfa4e3f17e",
        "colab": {
          "base_uri": "https://localhost:8080/",
          "height": 121
        }
      },
      "source": [
        "from prettytable import PrettyTable\n",
        "x = PrettyTable()\n",
        "x.add_column(\"S.NO\",[1,2])\n",
        "x.add_column(\"#f Epochs\",[7,7])\n",
        "x.add_column(\"Model Description\",[\"Model with 1 layer of LSTM + Dropout = 0.3 + #F LSTM = 27\"\n",
        ",\"Model with 2 layer of LSTM + Dropout = 0.3 + #F LSTM = 27\"])\n",
        "x.add_column(\"Train Accuracy\",[\"95.13\",\"94.19\"])\n",
        "x.add_column(\"Validation Accuracy\",[\"91.101\" ,\"88.46\" ])\n",
        "print(x)"
      ],
      "execution_count": null,
      "outputs": [
        {
          "output_type": "stream",
          "text": [
            "+------+-----------+-----------------------------------------------------------+----------------+---------------------+\n",
            "| S.NO | #f Epochs |                     Model Description                     | Train Accuracy | Validation Accuracy |\n",
            "+------+-----------+-----------------------------------------------------------+----------------+---------------------+\n",
            "|  1   |     7     | Model with 1 layer of LSTM + Dropout = 0.3 + #F LSTM = 27 |     95.13      |        91.101       |\n",
            "|  2   |     7     | Model with 2 layer of LSTM + Dropout = 0.3 + #F LSTM = 27 |     94.19      |        88.46        |\n",
            "+------+-----------+-----------------------------------------------------------+----------------+---------------------+\n"
          ],
          "name": "stdout"
        }
      ]
    },
    {
      "cell_type": "code",
      "metadata": {
        "id": "JaHmFXfr5yRN"
      },
      "source": [
        "# #  !pip install hyperas\n",
        "# # !pip install networkx==1.11\n",
        "# from __future__ import print_function\n",
        "# from hyperopt import Trials, STATUS_OK, tpe\n",
        "# from keras.layers.core import Dense, Dropout, Activation\n",
        "# from keras.models import Sequential\n",
        "# from keras.utils import np_utils\n",
        "# from hyperas import optim\n",
        "# from hyperas.distributions import choice, uniform\n",
        "\n",
        "\n",
        "# def create_model(x_train, y_train, x_test, y_test):\n",
        "#     #############################################################\n",
        "#     #############################################################\n",
        "#     model = Sequential()\n",
        "#     # Configuring the parameters\n",
        "# #     n_hidden = [ i for i in range(2, 50)]\n",
        "#     model.add(LSTM(n_hidden, input_shape=(timesteps, input_dim)))\n",
        "#     # Adding a dropout layer\n",
        "#     model.add(Dropout({{uniform(0, 1)}}))\n",
        "#     # Adding a dense output layer with sigmoid activation\n",
        "#     model.add(Dense(n_classes, activation='sigmoid'))\n",
        "#     ##############################################################\n",
        "#     ##############################################################\n",
        "    \n",
        "    \n",
        "# #     model = Sequential()\n",
        "# #     model.add(Dense(512, input_shape=(784,)))\n",
        "# #     model.add(Activation('relu'))\n",
        "# #     model.add(Dropout({{uniform(0, 1)}}))\n",
        "# #     model.add(Dense({{choice([256, 512, 1024])}}))\n",
        "# #     model.add(Activation({{choice(['relu', 'sigmoid'])}}))\n",
        "# #     model.add(Dropout({{uniform(0, 1)}}))\n",
        "\n",
        "# #     # If we choose 'four', add an additional fourth layer\n",
        "# #     if {{choice(['three', 'four'])}} == 'four':\n",
        "# #         model.add(Dense(100))\n",
        "\n",
        "# #         # We can also choose between complete sets of layers\n",
        "\n",
        "# #         model.add({{choice([Dropout(0.5), Activation('linear')])}})\n",
        "# #         model.add(Activation('relu'))\n",
        "\n",
        "# #     model.add(Dense(10))\n",
        "# #     model.add(Activation('softmax'))\n",
        "\n",
        "#     model.compile(loss='categorical_crossentropy', metrics=['accuracy'],\n",
        "#                   optimizer='adam')\n",
        "\n",
        "#     result = model.fit(x_train, y_train,\n",
        "#               batch_size=batch_size,\n",
        "#               epochs=epochs,\n",
        "#               verbose=2,\n",
        "#               validation_split=0.1)\n",
        "#     #get the highest validation accuracy of the training epochs\n",
        "#     validation_acc = np.amax(result.history['val_acc']) \n",
        "#     print('Best validation acc of epoch:', validation_acc)\n",
        "#     return {'loss': -validation_acc, 'status': STATUS_OK, 'model': model}\n",
        "\n",
        "\n",
        "# if __name__ == '__main__':\n",
        "#     best_run, best_model = optim.minimize(model=create_model,\n",
        "#                                           data=load_data(),\n",
        "#                                           algo=tpe.suggest,\n",
        "#                                           max_evals=5,\n",
        "#                                           trials=Trials(), \n",
        "#                                          notebook_name='/drive/My Drive/Colab Notebooks/HAR_LSTM')\n",
        "#     X_train, Y_train, X_test, Y_test = load_data()\n",
        "#     print(\"Evalutation of best performing model:\")\n",
        "#     print(best_model.evaluate(X_test, Y_test))\n",
        "#     print(\"Best performing model chosen hyper-parameters:\")\n",
        "#     print(best_run)\n",
        "# # # Initiliazing the sequential model\n",
        "# # model = Sequential()\n",
        "# # # Configuring the parameters\n",
        "# # model.add(LSTM(n_hidden, input_shape=(timesteps, input_dim)))\n",
        "# # # Adding a dropout layer\n",
        "# # model.add(Dropout(0.5))\n",
        "# # # Adding a dense output layer with sigmoid activation\n",
        "# # model.add(Dense(n_classes, activation='sigmoid'))\n",
        "# # model.summary()"
      ],
      "execution_count": null,
      "outputs": []
    }
  ]
}